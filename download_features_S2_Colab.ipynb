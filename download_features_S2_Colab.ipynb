{
 "cells": [
  {
   "cell_type": "code",
   "execution_count": null,
   "metadata": {
    "id": "h_wyYDdpj7je"
   },
   "outputs": [],
   "source": [
    "# Cloud authentication.\n",
    "from google.colab import auth\n",
    "auth.authenticate_user()"
   ]
  },
  {
   "cell_type": "code",
   "execution_count": null,
   "metadata": {
    "colab": {
     "base_uri": "https://localhost:8080/"
    },
    "id": "-zE8fQINe7SD",
    "outputId": "7513c435-0bab-46e4-a895-7190ac049bf7"
   },
   "outputs": [
    {
     "name": "stdout",
     "output_type": "stream",
     "text": [
      "To authorize access needed by Earth Engine, open the following URL in a web browser and follow the instructions. If the web browser does not start automatically, please manually browse the URL below.\n",
      "\n",
      "    https://code.earthengine.google.com/client-auth?scopes=https%3A//www.googleapis.com/auth/earthengine%20https%3A//www.googleapis.com/auth/devstorage.full_control&request_id=S6TlvQ_-FeYswTvOaJVqZaWn1F4HBZebLj-xZmIEvQ8&tc=iyv4_ksjVk6FBrS9J7J0QZ-mI_TR3diXvTSLx948fH4&cc=vW4rIPT2lyiRTsJ44iBS8ahN2SsD5bvtj03W9Zrs30A\n",
      "\n",
      "The authorization workflow will generate a code, which you should paste in the box below.\n",
      "Enter verification code: 4/1AfgeXvuFbTYMxF8UPLYNzJJB_flPr8ByJ9y0V74b_WW0Rr_uC-4HwJJHOkI\n",
      "\n",
      "Successfully saved authorization token.\n"
     ]
    }
   ],
   "source": [
    "# Import, authenticate and initialize the Earth Engine library.\n",
    "import ee\n",
    "ee.Authenticate()\n",
    "ee.Initialize()"
   ]
  },
  {
   "cell_type": "code",
   "execution_count": null,
   "metadata": {
    "id": "UwBlV-lfciGN"
   },
   "outputs": [],
   "source": [
    "#parameters\n",
    "PARAMS = { 'START_DATE': '2019-11-15',\n",
    "            'STOP_DATE': '2020-04-30',        \n",
    "            'CLOUD_FILTER': 100,\n",
    "            'CLD_PRB_THRESH' : 30,\n",
    "            'NIR_DRK_THRESH': 0.15,\n",
    "            'CLD_PRJ_DIST':1,\n",
    "            'BUFFER':50,\n",
    "            'TABLE':ee.FeatureCollection('users/dgaso/UY_19-20_1ra/Field_50'),\n",
    "            'FIELD': 'Field025',\n",
    "            'PROJECTION': 'EPSG:32615',\n",
    "            'INTERVAL':15,\n",
    "            'EXPORT_FOLDER': 'S2_Features_US',\n",
    "            'SCALE':20\n",
    "            }\n",
    "\n",
    "#area of interest\n",
    "aoi = PARAMS['TABLE'].geometry();\n",
    "#day intervals \n",
    "biweeks = ee.List.sequence(320,350,PARAMS['INTERVAL']); \n",
    "biweeks2 = ee.List.sequence(0,105,PARAMS['INTERVAL']); \n",
    "#list of indices to download\n",
    "index = ['B2', 'B3', 'B4', 'B5', 'B6', 'B7', 'B8A', 'B11', 'B12', 'NDMI', 'NDVI', 'GNDVI', 'MCARI', 'TCARI', 'CIG', 'WDRVI']"
   ]
  },
  {
   "cell_type": "markdown",
   "metadata": {
    "id": "xhRCt6ocUyC7"
   },
   "source": [
    "HELPER FUNCTIONS"
   ]
  },
  {
   "cell_type": "code",
   "execution_count": null,
   "metadata": {
    "id": "OwaiupeOfJ53"
   },
   "outputs": [],
   "source": [
    "#Google cloud mask functions\n",
    "def get_s2_sr_cld_col(aoi, start_date, end_date):\n",
    "    # Import and filter S2 SR.\n",
    "    s2_sr_col = (ee.ImageCollection('COPERNICUS/S2_SR')\n",
    "        .filterBounds(aoi)\n",
    "        .filterDate(start_date, end_date)\n",
    "        .filter(ee.Filter.lte('CLOUDY_PIXEL_PERCENTAGE', PARAMS['CLOUD_FILTER'])))\n",
    "\n",
    "    # Import and filter s2cloudless.\n",
    "    s2_cloudless_col = (ee.ImageCollection('COPERNICUS/S2_CLOUD_PROBABILITY')\n",
    "        .filterBounds(aoi)\n",
    "        .filterDate(start_date, end_date))\n",
    "\n",
    "    # Join the filtered s2cloudless collection to the SR collection by the 'system:index' property.\n",
    "    return ee.ImageCollection(ee.Join.saveFirst('s2cloudless').apply(**{\n",
    "        'primary': s2_sr_col,\n",
    "        'secondary': s2_cloudless_col,\n",
    "        'condition': ee.Filter.equals(**{\n",
    "            'leftField': 'system:index',\n",
    "            'rightField': 'system:index'\n",
    "        })\n",
    "    }))\n",
    "\n",
    "def add_cloud_bands(img):\n",
    "    # Get s2cloudless image, subset the probability band.\n",
    "    cld_prb = ee.Image(img.get('s2cloudless')).select('probability')\n",
    "\n",
    "    # Condition s2cloudless by the probability threshold value.\n",
    "    is_cloud = cld_prb.gt(PARAMS['CLD_PRB_THRESH']).rename('clouds')\n",
    "\n",
    "    # Add the cloud probability layer and cloud mask as image bands.\n",
    "    return img.addBands(ee.Image([cld_prb, is_cloud]))\n",
    "\n",
    "def add_shadow_bands(img):\n",
    "    # Identify water pixels from the SCL band.\n",
    "    not_water = img.select('SCL').neq(6)\n",
    "\n",
    "    # Identify dark NIR pixels that are not water (potential cloud shadow pixels).\n",
    "    SR_BAND_SCALE = 1e4\n",
    "    dark_pixels = img.select('B8').lt(PARAMS['NIR_DRK_THRESH']*SR_BAND_SCALE).multiply(not_water).rename('dark_pixels')\n",
    "\n",
    "    # Determine the direction to project cloud shadow from clouds (assumes UTM projection).\n",
    "    shadow_azimuth = ee.Number(90).subtract(ee.Number(img.get('MEAN_SOLAR_AZIMUTH_ANGLE')));\n",
    "\n",
    "    # Project shadows from clouds for the distance specified by the CLD_PRJ_DIST input.\n",
    "    cld_proj = (img.select('clouds').directionalDistanceTransform(shadow_azimuth, PARAMS['CLD_PRJ_DIST']*10)\n",
    "        .reproject(**{'crs': img.select(0).projection(), 'scale': 100})\n",
    "        .select('distance')\n",
    "        .mask()\n",
    "        .rename('cloud_transform'))\n",
    "\n",
    "    # Identify the intersection of dark pixels with cloud shadow projection.\n",
    "    shadows = cld_proj.multiply(dark_pixels).rename('shadows')\n",
    "\n",
    "    # Add dark pixels, cloud projection, and identified shadows as image bands.\n",
    "    return img.addBands(ee.Image([dark_pixels, cld_proj, shadows]))\n",
    "\n",
    "def add_cld_shdw_mask(img):\n",
    "    # Add cloud component bands.\n",
    "    img_cloud = add_cloud_bands(img)\n",
    "\n",
    "    # Add cloud shadow component bands.\n",
    "    img_cloud_shadow = add_shadow_bands(img_cloud)\n",
    "\n",
    "    # Combine cloud and shadow mask, set cloud and shadow as value 1, else 0.\n",
    "    is_cld_shdw = img_cloud_shadow.select('clouds').add(img_cloud_shadow.select('shadows')).gt(0)\n",
    "\n",
    "    # Remove small cloud-shadow patches and dilate remaining pixels by BUFFER input.\n",
    "    # 20 m scale is for speed, and assumes clouds don't require 10 m precision.\n",
    "    is_cld_shdw = (is_cld_shdw.focalMin(2).focalMax(PARAMS['BUFFER']*2/20)\n",
    "        .reproject(**{'crs': img.select([0]).projection(), 'scale': 20})\n",
    "        .rename('cloudmask'))\n",
    "\n",
    "    # Add the final cloud-shadow mask to the image.\n",
    "    return img_cloud_shadow.addBands(is_cld_shdw)\n",
    "\n",
    "def apply_cld_shdw_mask(img):\n",
    "    # Subset the cloudmask band and invert it so clouds/shadow are 0, else 1.\n",
    "    not_cld_shdw = img.select('cloudmask').Not()\n",
    "\n",
    "    # Subset reflectance bands and update their masks, return the result.\n",
    "    return img.select('B.*').updateMask(not_cld_shdw)\n",
    "\n",
    "#add vegetation indices\n",
    "def addIndices(img):\n",
    "    ndmi = img.normalizedDifference(['B8','B11']).rename('NDMI')\n",
    "    ndvi = img.normalizedDifference(['B8','B4']).rename('NDVI')\n",
    "    gndvi = img.normalizedDifference(['B8','B3']).rename('GNDVI')\n",
    "    mcari = img.expression( \\\n",
    "      ' ((X - Y) - 0.2*(X-Z)) * (X/Y)', { \\\n",
    "        'X': img.select('B5'), \\\n",
    "        'Y': img.select('B4'),  \\\n",
    "        'Z': img.select('B3')}).rename('MCARI')\n",
    "    tcari = img.expression( \\\n",
    "      '3* ((X - Y) - 0.2*(X-Z) * (X/Y))', { \\\n",
    "        'X': img.select('B5'), \\\n",
    "        'Y': img.select('B4'),  \\\n",
    "        'Z': img.select('B3')}).rename('TCARI')\n",
    "    cig = img.expression( \\\n",
    "      ' (X / Y) - 1', { \\\n",
    "        'X': img.select('B8'), \\\n",
    "        'Y': img.select('B3')}).rename('CIG')\n",
    "    wdrvi = img.expression( \\\n",
    "      ' (0.5* X - Y) / (0.5* X + Y)', { \\\n",
    "        'X': img.select('B8'), \\\n",
    "        'Y': img.select('B4')}).rename('WDRVI')\n",
    "\n",
    "    return img.addBands(ndmi).addBands(ndvi).addBands(gndvi).addBands(mcari).addBands(tcari).addBands(cig).addBands(wdrvi)\n",
    "\n",
    "#temporal moving window average\n",
    "def mov_ave(m):\n",
    "  m = ee.Number(m)\n",
    "  return withVI.filter(ee.Filter.calendarRange(m, m.add(15), 'day_of_year')) \\\n",
    "          .filterBounds(aoi) \\\n",
    "           .mean().set('day_of_year', m)"
   ]
  },
  {
   "cell_type": "code",
   "execution_count": null,
   "metadata": {
    "id": "oN4Ls6lEfS03"
   },
   "outputs": [],
   "source": [
    "#Sentinel-2 collection\n",
    "s2_sr_cld_col = get_s2_sr_cld_col(aoi, PARAMS['START_DATE'], PARAMS['STOP_DATE'])\n",
    "#cloud masked collection\n",
    "s2_sr_median = (s2_sr_cld_col.map(add_cld_shdw_mask) \\\n",
    "                             .map(apply_cld_shdw_mask))\n",
    "#convert to float\n",
    "S2 = s2_sr_median.map(lambda image: image.toFloat())\n",
    "#add indices\n",
    "withVI = S2.map(addIndices)"
   ]
  },
  {
   "cell_type": "code",
   "execution_count": null,
   "metadata": {
    "id": "zIgrvXGXhYr8"
   },
   "outputs": [],
   "source": [
    "#temporal moving average\n",
    "Biweekly_mean =  ee.ImageCollection.fromImages(biweeks.map(mov_ave));\n",
    "Biweekly_mean2 =  ee.ImageCollection.fromImages(biweeks2.map(mov_ave));\n",
    "#merge collections\n",
    "Biweekly_mean = Biweekly_mean.merge(Biweekly_mean2).sort('system:index')\n",
    "#clip to field boundary\n",
    "clip_aoi = Biweekly_mean.map(lambda image: image.clip(aoi))"
   ]
  },
  {
   "cell_type": "code",
   "execution_count": null,
   "metadata": {
    "id": "hKak4Zn3kwm1"
   },
   "outputs": [],
   "source": [
    "#export images per feature\n",
    "for i in range(0, len(index)):\n",
    "\n",
    "  download_aoi = clip_aoi.map(lambda image: image.select(index[i])).toBands()\n",
    "  task = ee.batch.Export.image.toDrive( \n",
    "              image= download_aoi, \n",
    "              description= index[i] + '_' + PARAMS['FIELD'], \n",
    "              fileNamePrefix= index[i] + '_' + PARAMS['FIELD'],\n",
    "              scale= PARAMS['SCALE'],\n",
    "              crs= PARAMS['PROJECTION'],\n",
    "              fileFormat= 'GeoTIFF', \n",
    "              folder= PARAMS['EXPORT_FOLDER'], \n",
    "              region= aoi, \n",
    "              maxPixels= 1e13)\n",
    "\n",
    "  task.start() \n"
   ]
  }
 ],
 "metadata": {
  "colab": {
   "provenance": []
  },
  "gpuClass": "standard",
  "kernelspec": {
   "display_name": "Python 3",
   "language": "python",
   "name": "python3"
  },
  "language_info": {
   "codemirror_mode": {
    "name": "ipython",
    "version": 3
   },
   "file_extension": ".py",
   "mimetype": "text/x-python",
   "name": "python",
   "nbconvert_exporter": "python",
   "pygments_lexer": "ipython3",
   "version": "3.6.12"
  }
 },
 "nbformat": 4,
 "nbformat_minor": 4
}
